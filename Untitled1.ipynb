{
  "cells": [
    {
      "cell_type": "markdown",
      "metadata": {
        "id": "view-in-github",
        "colab_type": "text"
      },
      "source": [
        "<a href=\"https://colab.research.google.com/github/nani358/FMML_COURSE_ASSIGNMENT/blob/main/Untitled1.ipynb\" target=\"_parent\"><img src=\"https://colab.research.google.com/assets/colab-badge.svg\" alt=\"Open In Colab\"/></a>"
      ]
    },
    {
      "cell_type": "code",
      "execution_count": null,
      "metadata": {
        "colab": {
          "base_uri": "https://localhost:8080/"
        },
        "id": "7vZJ5cc9dliB",
        "outputId": "36068105-ad63-49a8-d5fc-e65a6d2985c9"
      },
      "outputs": [
        {
          "name": "stdout",
          "output_type": "stream",
          "text": [
            "Hello, and welcome to my world.\n"
          ]
        }
      ],
      "source": [
        "txt = \"hello, and welcome to my world.\"\n",
        "\n",
        "x = txt.capitalize()\n",
        "\n",
        "print (x)\n"
      ]
    },
    {
      "cell_type": "code",
      "execution_count": null,
      "metadata": {
        "colab": {
          "base_uri": "https://localhost:8080/"
        },
        "id": "H91LkRgijP71",
        "outputId": "6878c8b7-81ce-48c7-9cf5-69819afa5708"
      },
      "outputs": [
        {
          "name": "stdout",
          "output_type": "stream",
          "text": [
            "2\n"
          ]
        }
      ],
      "source": [
        "txt = \"I love apples, apple are my favorite fruit\"\n",
        "\n",
        "x = txt.count(\"apple\")\n",
        "\n",
        "print(x)"
      ]
    },
    {
      "cell_type": "code",
      "execution_count": null,
      "metadata": {
        "colab": {
          "base_uri": "https://localhost:8080/"
        },
        "id": "jP_X7Ifxj-SV",
        "outputId": "641871ee-609a-4861-d305-0555f2b0ff63"
      },
      "outputs": [
        {
          "name": "stdout",
          "output_type": "stream",
          "text": [
            "True\n"
          ]
        }
      ],
      "source": [
        "txt = \"Hello, welcome to my world.\"\n",
        "\n",
        "x = txt.endswith(\".\")\n",
        "\n",
        "print(x)"
      ]
    },
    {
      "cell_type": "code",
      "execution_count": null,
      "metadata": {
        "colab": {
          "base_uri": "https://localhost:8080/"
        },
        "id": "MECkM41Mky0A",
        "outputId": "edc98087-2f74-4486-8d6d-7cbfb0e08abb"
      },
      "outputs": [
        {
          "name": "stdout",
          "output_type": "stream",
          "text": [
            "hELLO mY nAME iS peter\n"
          ]
        }
      ],
      "source": [
        "txt = \"Hello My Name Is PETER\"\n",
        "\n",
        "x = txt.swapcase()\n",
        "\n",
        "print(x)"
      ]
    },
    {
      "cell_type": "code",
      "execution_count": null,
      "metadata": {
        "colab": {
          "base_uri": "https://localhost:8080/"
        },
        "id": "VwvBHrcCky3K",
        "outputId": "41a264a6-144e-4814-978e-c74dc818695c"
      },
      "outputs": [
        {
          "name": "stdout",
          "output_type": "stream",
          "text": [
            "HELLO MY FRIENDS\n"
          ]
        }
      ],
      "source": [
        "txt = \"Hello my friends\"\n",
        "\n",
        "x = txt.upper()\n",
        "\n",
        "print(x)"
      ]
    },
    {
      "cell_type": "code",
      "execution_count": null,
      "metadata": {
        "colab": {
          "base_uri": "https://localhost:8080/"
        },
        "id": "Rms8gCcfl8aU",
        "outputId": "4755f59a-99cb-4f3a-d8e1-1d76bb42bd5e"
      },
      "outputs": [
        {
          "name": "stdout",
          "output_type": "stream",
          "text": [
            "hello my friends\n"
          ]
        }
      ],
      "source": [
        "txt = \"Hello my FRIENDS\"\n",
        "\n",
        "x = txt.lower()\n",
        "\n",
        "print(x)"
      ]
    },
    {
      "cell_type": "code",
      "execution_count": null,
      "metadata": {
        "colab": {
          "base_uri": "https://localhost:8080/"
        },
        "id": "nR3gRbxEmGPo",
        "outputId": "aad1808c-ddde-4d32-eca1-00cdf711dcbd"
      },
      "outputs": [
        {
          "name": "stdout",
          "output_type": "stream",
          "text": [
            "For only 49.00 dollars!\n"
          ]
        }
      ],
      "source": [
        "txt = \"For only {price:.2f} dollars!\"\n",
        "print(txt.format(price = 49))\n",
        "\n"
      ]
    },
    {
      "cell_type": "code",
      "execution_count": null,
      "metadata": {
        "colab": {
          "base_uri": "https://localhost:8080/"
        },
        "id": "V9K7Xs9qmYed",
        "outputId": "f4f6e15a-8a11-413c-dc85-1663a85de25f"
      },
      "outputs": [
        {
          "name": "stdout",
          "output_type": "stream",
          "text": [
            "b'My name is St\\xc3\\xa5le'\n"
          ]
        }
      ],
      "source": [
        "txt = \"My name is Ståle\"\n",
        "\n",
        "x = txt.encode()\n",
        "\n",
        "print(x)"
      ]
    },
    {
      "cell_type": "code",
      "execution_count": null,
      "metadata": {
        "colab": {
          "base_uri": "https://localhost:8080/"
        },
        "id": "C9wtD9gVm-mI",
        "outputId": "2983e327-a037-4191-865c-42e4cec25bb0"
      },
      "outputs": [
        {
          "name": "stdout",
          "output_type": "stream",
          "text": [
            "7\n"
          ]
        }
      ],
      "source": [
        "txt = \"Hello, welcome to my world.\"\n",
        "\n",
        "x = txt.index(\"welcome\")\n",
        "\n",
        "print(x)\n"
      ]
    },
    {
      "cell_type": "code",
      "execution_count": null,
      "metadata": {
        "colab": {
          "base_uri": "https://localhost:8080/"
        },
        "id": "aB4yGjgznXxx",
        "outputId": "975b8d0f-2932-4786-e523-a2f4976167eb"
      },
      "outputs": [
        {
          "name": "stdout",
          "output_type": "stream",
          "text": [
            "I like apples\n"
          ]
        }
      ],
      "source": [
        "txt = \"I like bananas\"\n",
        "\n",
        "x = txt.replace(\"bananas\", \"apples\")\n",
        "\n",
        "print(x)"
      ]
    },
    {
      "cell_type": "code",
      "execution_count": null,
      "metadata": {
        "colab": {
          "base_uri": "https://localhost:8080/"
        },
        "id": "HSowtmVbniS3",
        "outputId": "ca961b99-6bc1-4e01-9c64-2356678b42f7"
      },
      "outputs": [
        {
          "name": "stdout",
          "output_type": "stream",
          "text": [
            "Hello Pam!\n"
          ]
        }
      ],
      "source": [
        "#use a dictionary with ascii codes to replace 83 (S) with 80 (P):\n",
        "mydict = {83:  80}\n",
        "txt = \"Hello Sam!\"\n",
        "print(txt.translate(mydict))"
      ]
    },
    {
      "cell_type": "code",
      "execution_count": null,
      "metadata": {
        "colab": {
          "base_uri": "https://localhost:8080/"
        },
        "id": "Tk-w49mVn8Mx",
        "outputId": "6cf48b27-d072-4fee-ced6-eda192864fe1"
      },
      "outputs": [
        {
          "name": "stdout",
          "output_type": "stream",
          "text": [
            "hello my friends\n"
          ]
        }
      ],
      "source": [
        "txt = \"Hello my FRIENDS\"\n",
        "\n",
        "x = txt.lower()\n",
        "\n",
        "print(x)\n"
      ]
    },
    {
      "cell_type": "code",
      "execution_count": null,
      "metadata": {
        "colab": {
          "base_uri": "https://localhost:8080/"
        },
        "id": "YTYT_ssMoGCC",
        "outputId": "cb109105-e060-4377-fdb1-5e6b09e2884f"
      },
      "outputs": [
        {
          "name": "stdout",
          "output_type": "stream",
          "text": [
            "Welcome To My World\n"
          ]
        }
      ],
      "source": [
        "txt = \"Welcome to my world\"\n",
        "\n",
        "x = txt.title()\n",
        "\n",
        "print(x)"
      ]
    },
    {
      "cell_type": "code",
      "execution_count": null,
      "metadata": {
        "colab": {
          "base_uri": "https://localhost:8080/"
        },
        "id": "YIItA5PgoPAu",
        "outputId": "b43af49f-c903-4e3e-8f9a-d02fb3c888b9"
      },
      "outputs": [
        {
          "name": "stdout",
          "output_type": "stream",
          "text": [
            "H e l l o\n"
          ]
        }
      ],
      "source": [
        "txt = \"H\\te\\tl\\tl\\to\"\n",
        "\n",
        "x =  txt.expandtabs(2)\n",
        "\n",
        "print(x)"
      ]
    },
    {
      "cell_type": "code",
      "execution_count": null,
      "metadata": {
        "colab": {
          "base_uri": "https://localhost:8080/"
        },
        "id": "wjf4LGIvochd",
        "outputId": "a4f7cc12-f84e-4e92-e4e0-ac1aad7f5b17"
      },
      "outputs": [
        {
          "name": "stdout",
          "output_type": "stream",
          "text": [
            "hello, and welcome to my world!\n"
          ]
        }
      ],
      "source": [
        "txt = \"Hello, And Welcome To My World!\"\n",
        "\n",
        "x = txt.casefold()\n",
        "\n",
        "print(x)\n"
      ]
    },
    {
      "cell_type": "code",
      "execution_count": null,
      "metadata": {
        "colab": {
          "base_uri": "https://localhost:8080/"
        },
        "id": "627rHqX3omJo",
        "outputId": "3803d602-9fbd-4afc-97c0-cf26c6dcf8fd"
      },
      "outputs": [
        {
          "name": "stdout",
          "output_type": "stream",
          "text": [
            "       banana       \n"
          ]
        }
      ],
      "source": [
        "txt = \"banana\"\n",
        "\n",
        "x = txt.center(20)\n",
        "\n",
        "print(x)"
      ]
    },
    {
      "cell_type": "code",
      "execution_count": null,
      "metadata": {
        "colab": {
          "base_uri": "https://localhost:8080/"
        },
        "id": "0bKvLZfpotKK",
        "outputId": "b6e167b1-d2bb-4b54-f872-d6983d10fc04"
      },
      "outputs": [
        {
          "name": "stdout",
          "output_type": "stream",
          "text": [
            "b'My name is St\\xc3\\xa5le'\n"
          ]
        }
      ],
      "source": [
        "txt = \"My name is Ståle\"\n",
        "\n",
        "x = txt.encode()\n",
        "\n",
        "print(x)\n"
      ]
    },
    {
      "cell_type": "code",
      "execution_count": null,
      "metadata": {
        "colab": {
          "base_uri": "https://localhost:8080/"
        },
        "id": "1dxFQ0GFo1wh",
        "outputId": "d20729bf-d8fa-45cd-c71e-f5c33713b57f"
      },
      "outputs": [
        {
          "name": "stdout",
          "output_type": "stream",
          "text": [
            "7\n"
          ]
        }
      ],
      "source": [
        "txt = \"Hello, welcome to my world.\"\n",
        "\n",
        "x = txt.find(\"welcome\")\n",
        "\n",
        "print(x)"
      ]
    },
    {
      "cell_type": "code",
      "execution_count": null,
      "metadata": {
        "colab": {
          "base_uri": "https://localhost:8080/"
        },
        "id": "U579-9dupBej",
        "outputId": "f9735d8d-79a0-495a-8048-b6f9bbf2921c"
      },
      "outputs": [
        {
          "name": "stdout",
          "output_type": "stream",
          "text": [
            "Welcome To My World\n"
          ]
        }
      ],
      "source": [
        "txt = \"Welcome to my world\"\n",
        "\n",
        "x = txt.title()\n",
        "\n",
        "print(x)\n"
      ]
    },
    {
      "cell_type": "code",
      "execution_count": null,
      "metadata": {
        "colab": {
          "base_uri": "https://localhost:8080/"
        },
        "id": "qFT4KA_ipIwJ",
        "outputId": "5d7459a2-73d1-4834-f98f-5996936bf29e"
      },
      "outputs": [
        {
          "name": "stdout",
          "output_type": "stream",
          "text": [
            "0000000050\n"
          ]
        }
      ],
      "source": [
        "txt = \"50\"\n",
        "\n",
        "x = txt.zfill(10)\n",
        "\n",
        "print(x)\n"
      ]
    },
    {
      "cell_type": "code",
      "execution_count": null,
      "metadata": {
        "colab": {
          "base_uri": "https://localhost:8080/"
        },
        "id": "sR9044LVpZ9b",
        "outputId": "645c27a8-33db-4569-ce5d-d7b73eb2c7c4"
      },
      "outputs": [
        {
          "name": "stdout",
          "output_type": "stream",
          "text": [
            "of all fruits banana is my favorite\n"
          ]
        }
      ],
      "source": [
        "txt = \"     banana     \"\n",
        "\n",
        "x = txt.strip()\n",
        "\n",
        "print(\"of all fruits\", x, \"is my favorite\")\n"
      ]
    },
    {
      "cell_type": "code",
      "execution_count": null,
      "metadata": {
        "colab": {
          "base_uri": "https://localhost:8080/"
        },
        "id": "-Zpr8c5eph5G",
        "outputId": "324f55d0-17d9-4fa9-9b40-745f1a9158ad"
      },
      "outputs": [
        {
          "name": "stdout",
          "output_type": "stream",
          "text": [
            "['Thank you for the music', 'Welcome to the jungle']\n"
          ]
        }
      ],
      "source": [
        "txt = \"Thank you for the music\\nWelcome to the jungle\"\n",
        "\n",
        "x = txt.splitlines()\n",
        "\n",
        "print(x)"
      ]
    },
    {
      "cell_type": "code",
      "execution_count": null,
      "metadata": {
        "colab": {
          "base_uri": "https://localhost:8080/"
        },
        "id": "8GddaqrUp5DE",
        "outputId": "fac0612c-7797-404f-af7a-dc466d561f14"
      },
      "outputs": [
        {
          "name": "stdout",
          "output_type": "stream",
          "text": [
            "True\n"
          ]
        }
      ],
      "source": [
        "txt = \"Hello, welcome to my world.\"\n",
        "\n",
        "x = txt.startswith(\"Hello\")\n",
        "\n",
        "print(x)\n"
      ]
    },
    {
      "cell_type": "code",
      "execution_count": null,
      "metadata": {
        "colab": {
          "base_uri": "https://localhost:8080/"
        },
        "id": "JudZHbqQqUwh",
        "outputId": "ccaeb7e2-120c-4cb1-c894-68166d98954e"
      },
      "outputs": [
        {
          "name": "stdout",
          "output_type": "stream",
          "text": [
            "banana               is my favorite fruit.\n"
          ]
        }
      ],
      "source": [
        "txt = \"banana\"\n",
        "\n",
        "x = txt.ljust(20)\n",
        "\n",
        "print(x, \"is my favorite fruit.\")"
      ]
    },
    {
      "cell_type": "code",
      "execution_count": null,
      "metadata": {
        "colab": {
          "base_uri": "https://localhost:8080/"
        },
        "id": "6JHUzeJYqkSD",
        "outputId": "1c7f3dc4-6caa-4d8d-88a7-27046ca64d27"
      },
      "outputs": [
        {
          "name": "stdout",
          "output_type": "stream",
          "text": [
            "True\n"
          ]
        }
      ],
      "source": [
        "txt = \"   \"\n",
        "\n",
        "x = txt.isspace()\n",
        "\n",
        "print(x)\n"
      ]
    },
    {
      "cell_type": "code",
      "execution_count": null,
      "metadata": {
        "colab": {
          "base_uri": "https://localhost:8080/"
        },
        "id": "Ro3hKObdqqCM",
        "outputId": "79218efe-548b-47a8-a128-1e4e9693942d"
      },
      "outputs": [
        {
          "name": "stdout",
          "output_type": "stream",
          "text": [
            "True\n"
          ]
        }
      ],
      "source": [
        "txt = \"50800\"\n",
        "\n",
        "x = txt.isdigit()\n",
        "\n",
        "print(x)"
      ]
    },
    {
      "cell_type": "code",
      "execution_count": null,
      "metadata": {
        "colab": {
          "base_uri": "https://localhost:8080/"
        },
        "id": "FAfwxzblqzWl",
        "outputId": "49e2ee99-63e3-42e6-d3bb-ad6414ed5373"
      },
      "outputs": [
        {
          "name": "stdout",
          "output_type": "stream",
          "text": [
            "True\n"
          ]
        }
      ],
      "source": [
        "txt = \"565543\"\n",
        "\n",
        "x = txt.isnumeric()\n",
        "\n",
        "print(x)\n"
      ]
    },
    {
      "cell_type": "code",
      "execution_count": null,
      "metadata": {
        "colab": {
          "base_uri": "https://localhost:8080/"
        },
        "id": "FGUu7AdJq1IR",
        "outputId": "e75be8a2-3c17-4b03-a080-f3122f1ef75a"
      },
      "outputs": [
        {
          "name": "stdout",
          "output_type": "stream",
          "text": [
            "True\n"
          ]
        }
      ],
      "source": [
        "txt = \"1234\"\n",
        "\n",
        "x = txt.isdecimal()\n",
        "\n",
        "print(x)"
      ]
    },
    {
      "cell_type": "code",
      "execution_count": null,
      "metadata": {
        "colab": {
          "base_uri": "https://localhost:8080/"
        },
        "id": "HzFHcY2uq_AJ",
        "outputId": "67667369-d0f8-45e6-c039-8597d0b5f194"
      },
      "outputs": [
        {
          "name": "stdout",
          "output_type": "stream",
          "text": [
            "True\n"
          ]
        }
      ],
      "source": [
        "txt = \"Demo\"\n",
        "\n",
        "x = txt.isidentifier()\n",
        "\n",
        "print(x)"
      ]
    },
    {
      "cell_type": "code",
      "execution_count": null,
      "metadata": {
        "colab": {
          "base_uri": "https://localhost:8080/"
        },
        "id": "hi4CakghrFKD",
        "outputId": "891bda6a-ee7d-4541-e247-8c11cab3367b"
      },
      "outputs": [
        {
          "name": "stdout",
          "output_type": "stream",
          "text": [
            "banana               is my favorite fruit.\n"
          ]
        }
      ],
      "source": [
        "txt = \"banana\"\n",
        "\n",
        "x = txt.ljust(20)\n",
        "\n",
        "print(x, \"is my favorite fruit.\")"
      ]
    },
    {
      "cell_type": "code",
      "execution_count": null,
      "metadata": {
        "colab": {
          "base_uri": "https://localhost:8080/"
        },
        "id": "j9YS1jqWrL8O",
        "outputId": "1563ec3b-7595-49b0-f12a-dee9cd34c8aa"
      },
      "outputs": [
        {
          "name": "stdout",
          "output_type": "stream",
          "text": [
            "Hello Pam!\n"
          ]
        }
      ],
      "source": [
        "txt = \"Hello Sam!\"\n",
        "mytable = str.maketrans(\"S\", \"P\")\n",
        "print(txt.translate(mytable))"
      ]
    },
    {
      "cell_type": "code",
      "execution_count": null,
      "metadata": {
        "colab": {
          "base_uri": "https://localhost:8080/"
        },
        "id": "4X1jXs7UrUl2",
        "outputId": "55ef0bb9-cd76-4285-9fac-4c232d268daa"
      },
      "outputs": [
        {
          "name": "stdout",
          "output_type": "stream",
          "text": [
            "12\n"
          ]
        }
      ],
      "source": [
        "txt = \"Mi casa, su casa.\"\n",
        "\n",
        "x = txt.rindex(\"casa\")\n",
        "\n",
        "print(x)"
      ]
    },
    {
      "cell_type": "code",
      "execution_count": null,
      "metadata": {
        "colab": {
          "base_uri": "https://localhost:8080/"
        },
        "id": "0tOfYWo5uIQH",
        "outputId": "5f63683e-7762-4dcb-a16f-2842bfb18acb"
      },
      "outputs": [
        {
          "name": "stdout",
          "output_type": "stream",
          "text": [
            "True\n"
          ]
        }
      ],
      "source": [
        "txt = \"CompanyX\"\n",
        "\n",
        "x = txt.isalpha()\n",
        "\n",
        "print(x)"
      ]
    },
    {
      "cell_type": "code",
      "execution_count": null,
      "metadata": {
        "colab": {
          "base_uri": "https://localhost:8080/"
        },
        "id": "5XKS4qZHuZoB",
        "outputId": "5670588e-a0cf-45f7-e7db-9ffbf2211b79"
      },
      "outputs": [
        {
          "name": "stdout",
          "output_type": "stream",
          "text": [
            "('I could eat ', 'bananas', ' all day')\n"
          ]
        }
      ],
      "source": [
        "txt = \"I could eat bananas all day\"\n",
        "\n",
        "x = txt.partition(\"bananas\")\n",
        "\n",
        "print(x)"
      ]
    },
    {
      "cell_type": "code",
      "execution_count": null,
      "metadata": {
        "colab": {
          "base_uri": "https://localhost:8080/"
        },
        "id": "fuFD83tkvDRi",
        "outputId": "ecca5003-b8d7-4593-cfe3-3738e75cfc4e"
      },
      "outputs": [
        {
          "name": "stdout",
          "output_type": "stream",
          "text": [
            "True\n"
          ]
        }
      ],
      "source": [
        "txt = \"Hello! Are you #1?\"\n",
        "\n",
        "x = txt.isprintable()\n",
        "\n",
        "print(x)"
      ]
    },
    {
      "cell_type": "code",
      "execution_count": null,
      "metadata": {
        "colab": {
          "base_uri": "https://localhost:8080/"
        },
        "id": "jfGsbL7kvb_r",
        "outputId": "82c9045c-5e38-4741-e9fe-086987d08d91"
      },
      "outputs": [
        {
          "name": "stdout",
          "output_type": "stream",
          "text": [
            "True\n"
          ]
        }
      ],
      "source": [
        "txt = \"THIS IS NOW!\"\n",
        "\n",
        "x = txt.isupper()\n",
        "\n",
        "print(x)"
      ]
    },
    {
      "cell_type": "code",
      "execution_count": null,
      "metadata": {
        "colab": {
          "base_uri": "https://localhost:8080/"
        },
        "id": "q1yMFOpUvplY",
        "outputId": "fbc1d73a-7826-489e-a3ef-b305e92746dd"
      },
      "outputs": [
        {
          "name": "stdout",
          "output_type": "stream",
          "text": [
            "True\n"
          ]
        }
      ],
      "source": [
        "txt = \"Company123\"\n",
        "\n",
        "x = txt.isascii()\n",
        "\n",
        "print(x)"
      ]
    },
    {
      "cell_type": "code",
      "execution_count": null,
      "metadata": {
        "colab": {
          "base_uri": "https://localhost:8080/"
        },
        "id": "itjmE7ZIvuPg",
        "outputId": "36f554fb-32d9-45c5-ea45-25f7e4068048"
      },
      "outputs": [
        {
          "name": "stdout",
          "output_type": "stream",
          "text": [
            "True\n"
          ]
        }
      ],
      "source": [
        "txt = \"Hello, And Welcome To My World!\"\n",
        "\n",
        "x = txt.istitle()\n",
        "\n",
        "print(x)\n"
      ]
    },
    {
      "cell_type": "code",
      "execution_count": null,
      "metadata": {
        "colab": {
          "base_uri": "https://localhost:8080/"
        },
        "id": "KdrS70gMvzyr",
        "outputId": "04b51cec-9836-408d-c1b4-2a2db321e5c7"
      },
      "outputs": [
        {
          "name": "stdout",
          "output_type": "stream",
          "text": [
            "True\n"
          ]
        }
      ],
      "source": [
        "txt = \"Company12\"\n",
        "\n",
        "x = txt.isalnum()\n",
        "\n",
        "print(x)\n"
      ]
    },
    {
      "cell_type": "code",
      "execution_count": null,
      "metadata": {
        "colab": {
          "base_uri": "https://localhost:8080/"
        },
        "id": "Ywtqyx6vwDeq",
        "outputId": "b9630c23-531c-4472-867e-1f715e5c3bdd"
      },
      "outputs": [
        {
          "name": "stdout",
          "output_type": "stream",
          "text": [
            "              banana is my favorite fruit.\n"
          ]
        }
      ],
      "source": [
        "txt = \"banana\"\n",
        "\n",
        "x = txt.rjust(20)\n",
        "\n",
        "print(x, \"is my favorite fruit.\")\n"
      ]
    },
    {
      "cell_type": "markdown",
      "metadata": {
        "id": "t2hNCn7zfQCG"
      },
      "source": []
    },
    {
      "cell_type": "markdown",
      "metadata": {
        "id": "pP-mXzRCyV_n"
      },
      "source": [
        "**LIST** **METHODS**"
      ]
    },
    {
      "cell_type": "code",
      "execution_count": null,
      "metadata": {
        "colab": {
          "base_uri": "https://localhost:8080/"
        },
        "id": "grxUXkhpyfne",
        "outputId": "15fc2142-7421-44ed-96cf-339bf42eff5c"
      },
      "outputs": [
        {
          "name": "stdout",
          "output_type": "stream",
          "text": [
            "['apple', 'banana', 'cherry', 'orange']\n"
          ]
        }
      ],
      "source": [
        "fruits = [\"apple\", \"banana\", \"cherry\"]\n",
        "\n",
        "fruits.append(\"orange\")\n",
        "\n",
        "print(fruits)\n"
      ]
    },
    {
      "cell_type": "code",
      "execution_count": null,
      "metadata": {
        "id": "1QZkcYH7y6zf"
      },
      "outputs": [],
      "source": [
        "fruits = ['apple', 'banana', 'cherry', 'orange']\n",
        "\n",
        "fruits.clear()\n"
      ]
    },
    {
      "cell_type": "code",
      "execution_count": null,
      "metadata": {
        "id": "gnqyDdiDzF6E"
      },
      "outputs": [],
      "source": [
        "fruits = ['apple', 'banana', 'cherry', 'orange']\n",
        "\n",
        "x = fruits.copy()\n"
      ]
    },
    {
      "cell_type": "code",
      "execution_count": null,
      "metadata": {
        "id": "ZMBROduszOPj"
      },
      "outputs": [],
      "source": [
        "fruits = ['apple', 'banana', 'cherry']\n",
        "\n",
        "x = fruits.count(\"cherry\")"
      ]
    },
    {
      "cell_type": "code",
      "execution_count": null,
      "metadata": {
        "id": "yIU_fIVGzWVl"
      },
      "outputs": [],
      "source": [
        "points = [1, 4, 2, 9, 7, 8, 9, 3, 1]\n",
        "\n",
        "x = points.count(9)\n",
        "\n"
      ]
    },
    {
      "cell_type": "code",
      "execution_count": null,
      "metadata": {
        "id": "bpUVzMkRzpNO"
      },
      "outputs": [],
      "source": [
        "fruits = ['apple', 'banana', 'cherry']\n",
        "\n",
        "cars = ['Ford', 'BMW', 'Volvo']\n",
        "\n",
        "fruits.extend(cars)\n"
      ]
    },
    {
      "cell_type": "code",
      "execution_count": null,
      "metadata": {
        "id": "Ops2hvasz9bP"
      },
      "outputs": [],
      "source": [
        "fruits = ['apple', 'banana', 'cherry']\n",
        "\n",
        "x = fruits.index(\"cherry\")\n"
      ]
    },
    {
      "cell_type": "code",
      "execution_count": null,
      "metadata": {
        "id": "XWVDugbP0Iql"
      },
      "outputs": [],
      "source": [
        "fruits = ['apple', 'banana', 'cherry']\n",
        "\n",
        "fruits.insert(1, \"orange\")"
      ]
    },
    {
      "cell_type": "code",
      "execution_count": null,
      "metadata": {
        "colab": {
          "base_uri": "https://localhost:8080/",
          "height": 35
        },
        "id": "8e98ME5y0OVQ",
        "outputId": "2a0232b4-adc7-4730-e267-9c8c6c4bb291"
      },
      "outputs": [
        {
          "data": {
            "application/vnd.google.colaboratory.intrinsic+json": {
              "type": "string"
            },
            "text/plain": [
              "'banana'"
            ]
          },
          "execution_count": 53,
          "metadata": {},
          "output_type": "execute_result"
        }
      ],
      "source": [
        "fruits = ['apple', 'banana', 'cherry']\n",
        "\n",
        "fruits.pop(1)"
      ]
    },
    {
      "cell_type": "code",
      "execution_count": null,
      "metadata": {
        "id": "-xdkeg620QpB"
      },
      "outputs": [],
      "source": [
        "fruits = ['apple', 'banana', 'cherry']\n",
        "\n",
        "fruits.remove(\"banana\")"
      ]
    },
    {
      "cell_type": "code",
      "execution_count": null,
      "metadata": {
        "id": "oasL1Q110XQ0"
      },
      "outputs": [],
      "source": [
        "fruits = ['apple', 'banana', 'cherry']\n",
        "\n",
        "fruits.reverse()\n"
      ]
    },
    {
      "cell_type": "code",
      "execution_count": null,
      "metadata": {
        "id": "mbsH-cpb0kVd"
      },
      "outputs": [],
      "source": [
        "cars = ['Ford', 'BMW', 'Volvo']\n",
        "\n",
        "cars.sort()\n"
      ]
    },
    {
      "cell_type": "markdown",
      "metadata": {
        "id": "ajVqQiDR0ol0"
      },
      "source": [
        "BUILT IN FUNCTIONS"
      ]
    },
    {
      "cell_type": "code",
      "execution_count": null,
      "metadata": {
        "id": "5RJc_Ysj1L0y"
      },
      "outputs": [],
      "source": [
        "x = abs(-7.25)"
      ]
    },
    {
      "cell_type": "code",
      "execution_count": null,
      "metadata": {
        "id": "eqCISt4q1WG4"
      },
      "outputs": [],
      "source": [
        "mylist = [True, True, True]\n",
        "x = all(mylist)\n"
      ]
    },
    {
      "cell_type": "code",
      "execution_count": null,
      "metadata": {
        "id": "72NiyjPm1aaE"
      },
      "outputs": [],
      "source": [
        "mylist = [False, True, False]\n",
        "x = any(mylist)\n"
      ]
    },
    {
      "cell_type": "code",
      "execution_count": null,
      "metadata": {
        "id": "mPYLKWZ-1fYT"
      },
      "outputs": [],
      "source": [
        "x = ascii(\"My name is Ståle\")\n"
      ]
    },
    {
      "cell_type": "code",
      "execution_count": null,
      "metadata": {
        "id": "4A9FO3AD1jF0"
      },
      "outputs": [],
      "source": [
        "x = bin(36)"
      ]
    },
    {
      "cell_type": "code",
      "execution_count": null,
      "metadata": {
        "id": "o-QitiPP1pCL"
      },
      "outputs": [],
      "source": [
        "x = bool(1)"
      ]
    },
    {
      "cell_type": "code",
      "execution_count": null,
      "metadata": {
        "id": "bQXA7mrR1rnu"
      },
      "outputs": [],
      "source": [
        "x = bytearray(4)"
      ]
    },
    {
      "cell_type": "code",
      "execution_count": null,
      "metadata": {
        "id": "gVcRP8Q_1v0b"
      },
      "outputs": [],
      "source": [
        "x = bytes(4)"
      ]
    },
    {
      "cell_type": "code",
      "execution_count": null,
      "metadata": {
        "colab": {
          "base_uri": "https://localhost:8080/"
        },
        "id": "zN1rl16G11MI",
        "outputId": "ddd7b5c3-881f-4cd4-f26a-673c5adcafff"
      },
      "outputs": [
        {
          "name": "stdout",
          "output_type": "stream",
          "text": [
            "True\n"
          ]
        }
      ],
      "source": [
        "def x():\n",
        "  a = 5\n",
        "\n",
        "print(callable(x))\n"
      ]
    },
    {
      "cell_type": "code",
      "execution_count": null,
      "metadata": {
        "id": "BS5BCdhE15n0"
      },
      "outputs": [],
      "source": [
        "x = chr(97)"
      ]
    },
    {
      "cell_type": "code",
      "execution_count": null,
      "metadata": {
        "colab": {
          "base_uri": "https://localhost:8080/"
        },
        "id": "tJajVpmE2DEQ",
        "outputId": "257e3c48-06af-4729-ff15-787772255a16"
      },
      "outputs": [
        {
          "name": "stdout",
          "output_type": "stream",
          "text": [
            "55\n"
          ]
        }
      ],
      "source": [
        "x = compile('print(55)', 'test', 'eval')\n",
        "exec(x)"
      ]
    },
    {
      "cell_type": "code",
      "execution_count": null,
      "metadata": {
        "id": "SwGFPBOO2FHn"
      },
      "outputs": [],
      "source": [
        "x = complex(3, 5)\n"
      ]
    },
    {
      "cell_type": "code",
      "execution_count": null,
      "metadata": {
        "id": "57o9vDRL2U5c"
      },
      "outputs": [],
      "source": [
        "class Person:\n",
        "  name = \"John\"\n",
        "  age = 36\n",
        "  country = \"Norway\"\n",
        "\n",
        "delattr(Person, 'age')\n"
      ]
    },
    {
      "cell_type": "code",
      "execution_count": null,
      "metadata": {
        "id": "BPlyNjJw2dCw"
      },
      "outputs": [],
      "source": [
        "x = dict(name = \"John\", age = 36, country = \"Norway\")\n",
        "\n"
      ]
    },
    {
      "cell_type": "code",
      "execution_count": null,
      "metadata": {
        "colab": {
          "base_uri": "https://localhost:8080/"
        },
        "id": "RG0rIxMS2U8w",
        "outputId": "59ea153e-5c3d-4041-b955-df0282649d43"
      },
      "outputs": [
        {
          "name": "stdout",
          "output_type": "stream",
          "text": [
            "['__class__', '__delattr__', '__dict__', '__dir__', '__doc__', '__eq__', '__format__', '__ge__', '__getattribute__', '__gt__', '__hash__', '__init__', '__init_subclass__', '__le__', '__lt__', '__module__', '__ne__', '__new__', '__reduce__', '__reduce_ex__', '__repr__', '__setattr__', '__sizeof__', '__str__', '__subclasshook__', '__weakref__', 'age', 'country', 'name']\n"
          ]
        }
      ],
      "source": [
        "class Person:\n",
        "  name = \"John\"\n",
        "  age = 36\n",
        "  country = \"Norway\"\n",
        "\n",
        "print(dir(Person))\n"
      ]
    },
    {
      "cell_type": "code",
      "execution_count": null,
      "metadata": {
        "id": "xir05j_K2u-m"
      },
      "outputs": [],
      "source": [
        "x = divmod(5, 2)\n"
      ]
    },
    {
      "cell_type": "code",
      "execution_count": null,
      "metadata": {
        "id": "oVg0XeZi23O7"
      },
      "outputs": [],
      "source": [
        "x = ('apple', 'banana', 'cherry')\n",
        "y = enumerate(x)"
      ]
    },
    {
      "cell_type": "code",
      "execution_count": null,
      "metadata": {
        "colab": {
          "base_uri": "https://localhost:8080/"
        },
        "id": "1b2IOMS52_Ly",
        "outputId": "a0c08979-8b84-461e-9f0c-01845606e95a"
      },
      "outputs": [
        {
          "name": "stdout",
          "output_type": "stream",
          "text": [
            "55\n"
          ]
        }
      ],
      "source": [
        "x = 'print(55)'\n",
        "eval(x)\n"
      ]
    },
    {
      "cell_type": "code",
      "execution_count": null,
      "metadata": {
        "colab": {
          "base_uri": "https://localhost:8080/"
        },
        "id": "EKx_Be-p3A0Y",
        "outputId": "cbc323c8-c118-4562-ae7f-ad717487e605"
      },
      "outputs": [
        {
          "name": "stdout",
          "output_type": "stream",
          "text": [
            "John\n"
          ]
        }
      ],
      "source": [
        "x = 'name = \"John\"\\nprint(name)'\n",
        "exec(x)"
      ]
    },
    {
      "cell_type": "code",
      "execution_count": null,
      "metadata": {
        "colab": {
          "base_uri": "https://localhost:8080/"
        },
        "id": "Az-oXJJZ3LpI",
        "outputId": "0f04a4a8-2625-4418-ecdc-f6247700270a"
      },
      "outputs": [
        {
          "name": "stdout",
          "output_type": "stream",
          "text": [
            "18\n",
            "24\n",
            "32\n"
          ]
        }
      ],
      "source": [
        "ages = [5, 12, 17, 18, 24, 32]\n",
        "\n",
        "def myFunc(x):\n",
        "  if x < 18:\n",
        "    return False\n",
        "  else:\n",
        "    return True\n",
        "\n",
        "adults = filter(myFunc, ages)\n",
        "\n",
        "for x in adults:\n",
        "  print(x)"
      ]
    },
    {
      "cell_type": "code",
      "execution_count": null,
      "metadata": {
        "id": "qboS93-S3PfK"
      },
      "outputs": [],
      "source": [
        "x = float(3)"
      ]
    },
    {
      "cell_type": "code",
      "execution_count": null,
      "metadata": {
        "id": "p5wgt2MH3dzc"
      },
      "outputs": [],
      "source": [
        "x = format(0.5, '%')"
      ]
    },
    {
      "cell_type": "code",
      "execution_count": null,
      "metadata": {
        "id": "IS_fzCw83isi"
      },
      "outputs": [],
      "source": [
        "mylist = ['apple', 'banana', 'cherry']\n",
        "x = frozenset(mylist)\n"
      ]
    },
    {
      "cell_type": "code",
      "execution_count": null,
      "metadata": {
        "id": "Jmn5VP0h3tFp"
      },
      "outputs": [],
      "source": [
        "class Person:\n",
        "  name = \"John\"\n",
        "  age = 36\n",
        "  country = \"Norway\"\n",
        "\n",
        "x = getattr(Person, 'age')\n"
      ]
    },
    {
      "cell_type": "code",
      "execution_count": null,
      "metadata": {
        "colab": {
          "base_uri": "https://localhost:8080/"
        },
        "id": "Z9askLUG3uqb",
        "outputId": "c12f1f7f-daa8-4f41-f5f8-56282ea64c61"
      },
      "outputs": [
        {
          "name": "stdout",
          "output_type": "stream",
          "text": [
            "{'__name__': '__main__', '__doc__': 'Automatically created module for IPython interactive environment', '__package__': None, '__loader__': None, '__spec__': None, '__builtin__': <module 'builtins' (built-in)>, '__builtins__': <module 'builtins' (built-in)>, '_ih': ['', 'txt = \"hello, and welcome to my world.\"\\n\\nx = txt.capitalize()\\n\\nprint (x)', 'txt = \"I love apples, apple are my favorite fruit\"\\n\\nx = txt.count(\"apple\")\\n\\nprint(x)', 'txt = \"Hello, welcome to my world.\"\\n\\nx = txt.endswith(\".\")\\n\\nprint(x)', 'txt = \"Hello My Name Is PETER\"\\n\\nx = txt.swapcase()\\n\\nprint(x)', 'txt = \"Hello my friends\"\\n\\nx = txt.upper()\\n\\nprint(x)', 'txt = \"Hello my FRIENDS\"\\n\\nx = txt.lower()\\n\\nprint(x)', 'txt = \"For only {price:.2f} dollars!\"\\nprint(txt.format(price = 49))', 'txt = \"My name is Ståle\"\\n\\nx = txt.encode()\\n\\nprint(x)', 'txt = \"Hello, welcome to my world.\"\\n\\nx = txt.index(\"welcome\")\\n\\nprint(x)', 'txt = \"I like bananas\"\\n\\nx = txt.replace(\"bananas\", \"apples\")\\n\\nprint(x)', '#use a dictionary with ascii codes to replace 83 (S) with 80 (P):\\nmydict = {83:  80}\\ntxt = \"Hello Sam!\"\\nprint(txt.translate(mydict))', 'txt = \"Hello my FRIENDS\"\\n\\nx = txt.lower()\\n\\nprint(x)', 'txt = \"Welcome to my world\"\\n\\nx = txt.title()\\n\\nprint(x)', 'txt = \"H\\\\te\\\\tl\\\\tl\\\\to\"\\n\\nx =  txt.expandtabs(2)\\n\\nprint(x)', 'txt = \"Hello, And Welcome To My World!\"\\n\\nx = txt.casefold()\\n\\nprint(x)', 'txt = \"banana\"\\n\\nx = txt.center(20)\\n\\nprint(x)', 'txt = \"My name is Ståle\"\\n\\nx = txt.encode()\\n\\nprint(x)', 'txt = \"Hello, welcome to my world.\"\\n\\nx = txt.find(\"welcome\")\\n\\nprint(x)', 'txt = \"Welcome to my world\"\\n\\nx = txt.title()\\n\\nprint(x)', 'txt = \"50\"\\n\\nx = txt.zfill(10)\\n\\nprint(x)', 'txt = \"     banana     \"\\n\\nx = txt.strip()\\n\\nprint(\"of all fruits\", x, \"is my favorite\")', 'txt = \"Thank you for the music\\\\nWelcome to the jungle\"\\n\\nx = txt.splitlines()\\n\\nprint(x)', 'txt = \"Hello, welcome to my world.\"\\n\\nx = txt.startswith(\"Hello\")\\n\\nprint(x)', 'txt = \"banana\"\\n\\nx = txt.ljust(20)\\n\\nprint(x, \"is my favorite fruit.\")', 'txt = \"   \"\\n\\nx = txt.isspace()\\n\\nprint(x)', 'txt = \"50800\"\\n\\nx = txt.isdigit()\\n\\nprint(x)', 'txt = \"565543\"\\n\\nx = txt.isnumeric()\\n\\nprint(x)', 'txt = \"1234\"\\n\\nx = txt.isdecimal()\\n\\nprint(x)', 'txt = \"Demo\"\\n\\nx = txt.isidentifier()\\n\\nprint(x)', 'txt = \"banana\"\\n\\nx = txt.ljust(20)\\n\\nprint(x, \"is my favorite fruit.\")', 'txt = \"Hello Sam!\"\\nmytable = str.maketrans(\"S\", \"P\")\\nprint(txt.translate(mytable))', 'txt = \"Mi casa, su casa.\"\\n\\nx = txt.rindex(\"casa\")\\n\\nprint(x)', 'txt = \"CompanyX\"\\n\\nx = txt.isalpha()\\n\\nprint(x)', 'txt = \"I could eat bananas all day\"\\n\\nx = txt.partition(\"bananas\")\\n\\nprint(x)', 'txt = \"Hello! Are you #1?\"\\n\\nx = txt.isprintable()\\n\\nprint(x)', 'txt = \"THIS IS NOW!\"\\n\\nx = txt.isupper()\\n\\nprint(x)', 'txt = \"Company123\"\\n\\nx = txt.isascii()\\n\\nprint(x)', 'txt = \"Hello, And Welcome To My World!\"\\n\\nx = txt.istitle()\\n\\nprint(x)', 'txt = \"Company12\"\\n\\nx = txt.isalnum()\\n\\nprint(x)', 'txt = \"banana\"\\n\\nx = txt.rjust(20)\\n\\nprint(x, \"is my favorite fruit.\")', 'LIST METHODS \\n\\n\\nfruits = [\\'apple\\', \\'banana\\', \\'cherry\\']\\nfruits.append(\"orange\")', 'LIST METHODS\\n\\nfruits = [\"apple\", \"banana\", \"cherry\"]\\n\\nfruits.append(\"orange\")\\n\\nprint(fruits)', 'txt = \"banana\"\\n\\nx = txt.rjust(20)\\n\\nprint(x, \"is my favorite fruit.\")', 'fruits = [\"apple\", \"banana\", \"cherry\"]\\n\\nfruits.append(\"orange\")\\n\\nprint(fruits)', 'fruits = [\"apple\", \"banana\", \"cherry\"]\\n\\nfruits.append(\"orange\")\\n\\nprint(fruits)', \"fruits = ['apple', 'banana', 'cherry', 'orange']\\n\\nfruits.clear()\", \"fruits = ['apple', 'banana', 'cherry', 'orange']\\n\\nx = fruits.copy()\", 'fruits = [\\'apple\\', \\'banana\\', \\'cherry\\']\\n\\nx = fruits.count(\"cherry\")', 'points = [1, 4, 2, 9, 7, 8, 9, 3, 1]\\n\\nx = points.count(9)', \"fruits = ['apple', 'banana', 'cherry']\\n\\ncars = ['Ford', 'BMW', 'Volvo']\\n\\nfruits.extend(cars)\", 'fruits = [\\'apple\\', \\'banana\\', \\'cherry\\']\\n\\nx = fruits.index(\"cherry\")', 'fruits = [\\'apple\\', \\'banana\\', \\'cherry\\']\\n\\nfruits.insert(1, \"orange\")', \"fruits = ['apple', 'banana', 'cherry']\\n\\nfruits.pop(1)\", 'fruits = [\\'apple\\', \\'banana\\', \\'cherry\\']\\n\\nfruits.remove(\"banana\")', \"fruits = ['apple', 'banana', 'cherry']\\n\\nfruits.reverse()\", \"cars = ['Ford', 'BMW', 'Volvo']\\n\\ncars.sort()\", 'x = abs(-7.25)', 'mylist = [True, True, True]\\nx = all(mylist)', 'mylist = [False, True, False]\\nx = any(mylist)', 'x = ascii(\"My name is Ståle\")', 'x = bin(36)', 'x = bool(1)', 'x = bytearray(4)', 'x = bytes(4)', 'def x():\\n  a = 5\\n\\nprint(callable(x))', 'x = chr(97)', \"x = compile('print(55)', 'test', 'eval')\\nexec(x)\", 'x = complex(3, 5)', 'class Person:\\n  name = \"John\"\\n  age = 36\\n  country = \"Norway\"\\n\\ndelattr(Person, \\'age\\')', 'x = dict(name = \"John\", age = 36, country = \"Norway\")', 'class Person:\\n  name = \"John\"\\n  age = 36\\n  country = \"Norway\"\\n\\nprint(dir(Person))', 'x = divmod(5, 2)', \"x = ('apple', 'banana', 'cherry')\\ny = enumerate(x)\", \"x = 'print(55)'\\neval(x)\", 'x = \\'name = \"John\"\\\\nprint(name)\\'\\nexec(x)', 'ages = [5, 12, 17, 18, 24, 32]\\n\\ndef myFunc(x):\\n  if x < 18:\\n    return False\\n  else:\\n    return True\\n\\nadults = filter(myFunc, ages)\\n\\nfor x in adults:\\n  print(x)', 'x = float(3)', \"x = format(0.5, '%')\", \"mylist = ['apple', 'banana', 'cherry']\\nx = frozenset(mylist)\", 'class Person:\\n  name = \"John\"\\n  age = 36\\n  country = \"Norway\"\\n\\nx = getattr(Person, \\'age\\')', 'x = globals()\\nprint(x)'], '_oh': {53: 'banana'}, '_dh': ['/content'], 'In': ['', 'txt = \"hello, and welcome to my world.\"\\n\\nx = txt.capitalize()\\n\\nprint (x)', 'txt = \"I love apples, apple are my favorite fruit\"\\n\\nx = txt.count(\"apple\")\\n\\nprint(x)', 'txt = \"Hello, welcome to my world.\"\\n\\nx = txt.endswith(\".\")\\n\\nprint(x)', 'txt = \"Hello My Name Is PETER\"\\n\\nx = txt.swapcase()\\n\\nprint(x)', 'txt = \"Hello my friends\"\\n\\nx = txt.upper()\\n\\nprint(x)', 'txt = \"Hello my FRIENDS\"\\n\\nx = txt.lower()\\n\\nprint(x)', 'txt = \"For only {price:.2f} dollars!\"\\nprint(txt.format(price = 49))', 'txt = \"My name is Ståle\"\\n\\nx = txt.encode()\\n\\nprint(x)', 'txt = \"Hello, welcome to my world.\"\\n\\nx = txt.index(\"welcome\")\\n\\nprint(x)', 'txt = \"I like bananas\"\\n\\nx = txt.replace(\"bananas\", \"apples\")\\n\\nprint(x)', '#use a dictionary with ascii codes to replace 83 (S) with 80 (P):\\nmydict = {83:  80}\\ntxt = \"Hello Sam!\"\\nprint(txt.translate(mydict))', 'txt = \"Hello my FRIENDS\"\\n\\nx = txt.lower()\\n\\nprint(x)', 'txt = \"Welcome to my world\"\\n\\nx = txt.title()\\n\\nprint(x)', 'txt = \"H\\\\te\\\\tl\\\\tl\\\\to\"\\n\\nx =  txt.expandtabs(2)\\n\\nprint(x)', 'txt = \"Hello, And Welcome To My World!\"\\n\\nx = txt.casefold()\\n\\nprint(x)', 'txt = \"banana\"\\n\\nx = txt.center(20)\\n\\nprint(x)', 'txt = \"My name is Ståle\"\\n\\nx = txt.encode()\\n\\nprint(x)', 'txt = \"Hello, welcome to my world.\"\\n\\nx = txt.find(\"welcome\")\\n\\nprint(x)', 'txt = \"Welcome to my world\"\\n\\nx = txt.title()\\n\\nprint(x)', 'txt = \"50\"\\n\\nx = txt.zfill(10)\\n\\nprint(x)', 'txt = \"     banana     \"\\n\\nx = txt.strip()\\n\\nprint(\"of all fruits\", x, \"is my favorite\")', 'txt = \"Thank you for the music\\\\nWelcome to the jungle\"\\n\\nx = txt.splitlines()\\n\\nprint(x)', 'txt = \"Hello, welcome to my world.\"\\n\\nx = txt.startswith(\"Hello\")\\n\\nprint(x)', 'txt = \"banana\"\\n\\nx = txt.ljust(20)\\n\\nprint(x, \"is my favorite fruit.\")', 'txt = \"   \"\\n\\nx = txt.isspace()\\n\\nprint(x)', 'txt = \"50800\"\\n\\nx = txt.isdigit()\\n\\nprint(x)', 'txt = \"565543\"\\n\\nx = txt.isnumeric()\\n\\nprint(x)', 'txt = \"1234\"\\n\\nx = txt.isdecimal()\\n\\nprint(x)', 'txt = \"Demo\"\\n\\nx = txt.isidentifier()\\n\\nprint(x)', 'txt = \"banana\"\\n\\nx = txt.ljust(20)\\n\\nprint(x, \"is my favorite fruit.\")', 'txt = \"Hello Sam!\"\\nmytable = str.maketrans(\"S\", \"P\")\\nprint(txt.translate(mytable))', 'txt = \"Mi casa, su casa.\"\\n\\nx = txt.rindex(\"casa\")\\n\\nprint(x)', 'txt = \"CompanyX\"\\n\\nx = txt.isalpha()\\n\\nprint(x)', 'txt = \"I could eat bananas all day\"\\n\\nx = txt.partition(\"bananas\")\\n\\nprint(x)', 'txt = \"Hello! Are you #1?\"\\n\\nx = txt.isprintable()\\n\\nprint(x)', 'txt = \"THIS IS NOW!\"\\n\\nx = txt.isupper()\\n\\nprint(x)', 'txt = \"Company123\"\\n\\nx = txt.isascii()\\n\\nprint(x)', 'txt = \"Hello, And Welcome To My World!\"\\n\\nx = txt.istitle()\\n\\nprint(x)', 'txt = \"Company12\"\\n\\nx = txt.isalnum()\\n\\nprint(x)', 'txt = \"banana\"\\n\\nx = txt.rjust(20)\\n\\nprint(x, \"is my favorite fruit.\")', 'LIST METHODS \\n\\n\\nfruits = [\\'apple\\', \\'banana\\', \\'cherry\\']\\nfruits.append(\"orange\")', 'LIST METHODS\\n\\nfruits = [\"apple\", \"banana\", \"cherry\"]\\n\\nfruits.append(\"orange\")\\n\\nprint(fruits)', 'txt = \"banana\"\\n\\nx = txt.rjust(20)\\n\\nprint(x, \"is my favorite fruit.\")', 'fruits = [\"apple\", \"banana\", \"cherry\"]\\n\\nfruits.append(\"orange\")\\n\\nprint(fruits)', 'fruits = [\"apple\", \"banana\", \"cherry\"]\\n\\nfruits.append(\"orange\")\\n\\nprint(fruits)', \"fruits = ['apple', 'banana', 'cherry', 'orange']\\n\\nfruits.clear()\", \"fruits = ['apple', 'banana', 'cherry', 'orange']\\n\\nx = fruits.copy()\", 'fruits = [\\'apple\\', \\'banana\\', \\'cherry\\']\\n\\nx = fruits.count(\"cherry\")', 'points = [1, 4, 2, 9, 7, 8, 9, 3, 1]\\n\\nx = points.count(9)', \"fruits = ['apple', 'banana', 'cherry']\\n\\ncars = ['Ford', 'BMW', 'Volvo']\\n\\nfruits.extend(cars)\", 'fruits = [\\'apple\\', \\'banana\\', \\'cherry\\']\\n\\nx = fruits.index(\"cherry\")', 'fruits = [\\'apple\\', \\'banana\\', \\'cherry\\']\\n\\nfruits.insert(1, \"orange\")', \"fruits = ['apple', 'banana', 'cherry']\\n\\nfruits.pop(1)\", 'fruits = [\\'apple\\', \\'banana\\', \\'cherry\\']\\n\\nfruits.remove(\"banana\")', \"fruits = ['apple', 'banana', 'cherry']\\n\\nfruits.reverse()\", \"cars = ['Ford', 'BMW', 'Volvo']\\n\\ncars.sort()\", 'x = abs(-7.25)', 'mylist = [True, True, True]\\nx = all(mylist)', 'mylist = [False, True, False]\\nx = any(mylist)', 'x = ascii(\"My name is Ståle\")', 'x = bin(36)', 'x = bool(1)', 'x = bytearray(4)', 'x = bytes(4)', 'def x():\\n  a = 5\\n\\nprint(callable(x))', 'x = chr(97)', \"x = compile('print(55)', 'test', 'eval')\\nexec(x)\", 'x = complex(3, 5)', 'class Person:\\n  name = \"John\"\\n  age = 36\\n  country = \"Norway\"\\n\\ndelattr(Person, \\'age\\')', 'x = dict(name = \"John\", age = 36, country = \"Norway\")', 'class Person:\\n  name = \"John\"\\n  age = 36\\n  country = \"Norway\"\\n\\nprint(dir(Person))', 'x = divmod(5, 2)', \"x = ('apple', 'banana', 'cherry')\\ny = enumerate(x)\", \"x = 'print(55)'\\neval(x)\", 'x = \\'name = \"John\"\\\\nprint(name)\\'\\nexec(x)', 'ages = [5, 12, 17, 18, 24, 32]\\n\\ndef myFunc(x):\\n  if x < 18:\\n    return False\\n  else:\\n    return True\\n\\nadults = filter(myFunc, ages)\\n\\nfor x in adults:\\n  print(x)', 'x = float(3)', \"x = format(0.5, '%')\", \"mylist = ['apple', 'banana', 'cherry']\\nx = frozenset(mylist)\", 'class Person:\\n  name = \"John\"\\n  age = 36\\n  country = \"Norway\"\\n\\nx = getattr(Person, \\'age\\')', 'x = globals()\\nprint(x)'], 'Out': {53: 'banana'}, 'get_ipython': <bound method InteractiveShell.get_ipython of <google.colab._shell.Shell object at 0x7b688b72e0b0>>, 'exit': <IPython.core.autocall.ZMQExitAutocall object at 0x7b688b72e650>, 'quit': <IPython.core.autocall.ZMQExitAutocall object at 0x7b688b72e650>, '_': 'banana', '__': '', '___': '', '_i': 'class Person:\\n  name = \"John\"\\n  age = 36\\n  country = \"Norway\"\\n\\nx = getattr(Person, \\'age\\')', '_ii': \"mylist = ['apple', 'banana', 'cherry']\\nx = frozenset(mylist)\", '_iii': \"x = format(0.5, '%')\", '_i1': 'txt = \"hello, and welcome to my world.\"\\n\\nx = txt.capitalize()\\n\\nprint (x)', 'txt': 'banana', 'x': {...}, '_i2': 'txt = \"I love apples, apple are my favorite fruit\"\\n\\nx = txt.count(\"apple\")\\n\\nprint(x)', '_i3': 'txt = \"Hello, welcome to my world.\"\\n\\nx = txt.endswith(\".\")\\n\\nprint(x)', '_i4': 'txt = \"Hello My Name Is PETER\"\\n\\nx = txt.swapcase()\\n\\nprint(x)', '_i5': 'txt = \"Hello my friends\"\\n\\nx = txt.upper()\\n\\nprint(x)', '_i6': 'txt = \"Hello my FRIENDS\"\\n\\nx = txt.lower()\\n\\nprint(x)', '_i7': 'txt = \"For only {price:.2f} dollars!\"\\nprint(txt.format(price = 49))', '_i8': 'txt = \"My name is Ståle\"\\n\\nx = txt.encode()\\n\\nprint(x)', '_i9': 'txt = \"Hello, welcome to my world.\"\\n\\nx = txt.index(\"welcome\")\\n\\nprint(x)', '_i10': 'txt = \"I like bananas\"\\n\\nx = txt.replace(\"bananas\", \"apples\")\\n\\nprint(x)', '_i11': '#use a dictionary with ascii codes to replace 83 (S) with 80 (P):\\nmydict = {83:  80}\\ntxt = \"Hello Sam!\"\\nprint(txt.translate(mydict))', 'mydict': {83: 80}, '_i12': 'txt = \"Hello my FRIENDS\"\\n\\nx = txt.lower()\\n\\nprint(x)', '_i13': 'txt = \"Welcome to my world\"\\n\\nx = txt.title()\\n\\nprint(x)', '_i14': 'txt = \"H\\\\te\\\\tl\\\\tl\\\\to\"\\n\\nx =  txt.expandtabs(2)\\n\\nprint(x)', '_i15': 'txt = \"Hello, And Welcome To My World!\"\\n\\nx = txt.casefold()\\n\\nprint(x)', '_i16': 'txt = \"banana\"\\n\\nx = txt.center(20)\\n\\nprint(x)', '_i17': 'txt = \"My name is Ståle\"\\n\\nx = txt.encode()\\n\\nprint(x)', '_i18': 'txt = \"Hello, welcome to my world.\"\\n\\nx = txt.find(\"welcome\")\\n\\nprint(x)', '_i19': 'txt = \"Welcome to my world\"\\n\\nx = txt.title()\\n\\nprint(x)', '_i20': 'txt = \"50\"\\n\\nx = txt.zfill(10)\\n\\nprint(x)', '_i21': 'txt = \"     banana     \"\\n\\nx = txt.strip()\\n\\nprint(\"of all fruits\", x, \"is my favorite\")', '_i22': 'txt = \"Thank you for the music\\\\nWelcome to the jungle\"\\n\\nx = txt.splitlines()\\n\\nprint(x)', '_i23': 'txt = \"Hello, welcome to my world.\"\\n\\nx = txt.startswith(\"Hello\")\\n\\nprint(x)', '_i24': 'txt = \"banana\"\\n\\nx = txt.ljust(20)\\n\\nprint(x, \"is my favorite fruit.\")', '_i25': 'txt = \"   \"\\n\\nx = txt.isspace()\\n\\nprint(x)', '_i26': 'txt = \"50800\"\\n\\nx = txt.isdigit()\\n\\nprint(x)', '_i27': 'txt = \"565543\"\\n\\nx = txt.isnumeric()\\n\\nprint(x)', '_i28': 'txt = \"1234\"\\n\\nx = txt.isdecimal()\\n\\nprint(x)', '_i29': 'txt = \"Demo\"\\n\\nx = txt.isidentifier()\\n\\nprint(x)', '_i30': 'txt = \"banana\"\\n\\nx = txt.ljust(20)\\n\\nprint(x, \"is my favorite fruit.\")', '_i31': 'txt = \"Hello Sam!\"\\nmytable = str.maketrans(\"S\", \"P\")\\nprint(txt.translate(mytable))', 'mytable': {83: 80}, '_i32': 'txt = \"Mi casa, su casa.\"\\n\\nx = txt.rindex(\"casa\")\\n\\nprint(x)', '_i33': 'txt = \"CompanyX\"\\n\\nx = txt.isalpha()\\n\\nprint(x)', '_i34': 'txt = \"I could eat bananas all day\"\\n\\nx = txt.partition(\"bananas\")\\n\\nprint(x)', '_i35': 'txt = \"Hello! Are you #1?\"\\n\\nx = txt.isprintable()\\n\\nprint(x)', '_i36': 'txt = \"THIS IS NOW!\"\\n\\nx = txt.isupper()\\n\\nprint(x)', '_i37': 'txt = \"Company123\"\\n\\nx = txt.isascii()\\n\\nprint(x)', '_i38': 'txt = \"Hello, And Welcome To My World!\"\\n\\nx = txt.istitle()\\n\\nprint(x)', '_i39': 'txt = \"Company12\"\\n\\nx = txt.isalnum()\\n\\nprint(x)', '_i40': 'txt = \"banana\"\\n\\nx = txt.rjust(20)\\n\\nprint(x, \"is my favorite fruit.\")', '_i41': 'LIST METHODS \\n\\n\\nfruits = [\\'apple\\', \\'banana\\', \\'cherry\\']\\nfruits.append(\"orange\")', '_i42': 'LIST METHODS\\n\\nfruits = [\"apple\", \"banana\", \"cherry\"]\\n\\nfruits.append(\"orange\")\\n\\nprint(fruits)', '_i43': 'txt = \"banana\"\\n\\nx = txt.rjust(20)\\n\\nprint(x, \"is my favorite fruit.\")', '_i44': 'fruits = [\"apple\", \"banana\", \"cherry\"]\\n\\nfruits.append(\"orange\")\\n\\nprint(fruits)', 'fruits': ['cherry', 'banana', 'apple'], '_i45': 'fruits = [\"apple\", \"banana\", \"cherry\"]\\n\\nfruits.append(\"orange\")\\n\\nprint(fruits)', '_i46': \"fruits = ['apple', 'banana', 'cherry', 'orange']\\n\\nfruits.clear()\", '_i47': \"fruits = ['apple', 'banana', 'cherry', 'orange']\\n\\nx = fruits.copy()\", '_i48': 'fruits = [\\'apple\\', \\'banana\\', \\'cherry\\']\\n\\nx = fruits.count(\"cherry\")', '_i49': 'points = [1, 4, 2, 9, 7, 8, 9, 3, 1]\\n\\nx = points.count(9)', 'points': [1, 4, 2, 9, 7, 8, 9, 3, 1], '_i50': \"fruits = ['apple', 'banana', 'cherry']\\n\\ncars = ['Ford', 'BMW', 'Volvo']\\n\\nfruits.extend(cars)\", 'cars': ['BMW', 'Ford', 'Volvo'], '_i51': 'fruits = [\\'apple\\', \\'banana\\', \\'cherry\\']\\n\\nx = fruits.index(\"cherry\")', '_i52': 'fruits = [\\'apple\\', \\'banana\\', \\'cherry\\']\\n\\nfruits.insert(1, \"orange\")', '_i53': \"fruits = ['apple', 'banana', 'cherry']\\n\\nfruits.pop(1)\", '_53': 'banana', '_i54': 'fruits = [\\'apple\\', \\'banana\\', \\'cherry\\']\\n\\nfruits.remove(\"banana\")', '_i55': \"fruits = ['apple', 'banana', 'cherry']\\n\\nfruits.reverse()\", '_i56': \"cars = ['Ford', 'BMW', 'Volvo']\\n\\ncars.sort()\", '_i57': 'x = abs(-7.25)', '_i58': 'mylist = [True, True, True]\\nx = all(mylist)', 'mylist': ['apple', 'banana', 'cherry'], '_i59': 'mylist = [False, True, False]\\nx = any(mylist)', '_i60': 'x = ascii(\"My name is Ståle\")', '_i61': 'x = bin(36)', '_i62': 'x = bool(1)', '_i63': 'x = bytearray(4)', '_i64': 'x = bytes(4)', '_i65': 'def x():\\n  a = 5\\n\\nprint(callable(x))', '_i66': 'x = chr(97)', '_i67': \"x = compile('print(55)', 'test', 'eval')\\nexec(x)\", '_i68': 'x = complex(3, 5)', '_i69': 'class Person:\\n  name = \"John\"\\n  age = 36\\n  country = \"Norway\"\\n\\ndelattr(Person, \\'age\\')', 'Person': <class '__main__.Person'>, '_i70': 'x = dict(name = \"John\", age = 36, country = \"Norway\")', '_i71': 'class Person:\\n  name = \"John\"\\n  age = 36\\n  country = \"Norway\"\\n\\nprint(dir(Person))', '_i72': 'x = divmod(5, 2)', '_i73': \"x = ('apple', 'banana', 'cherry')\\ny = enumerate(x)\", 'y': <enumerate object at 0x7b687b1b0e40>, '_i74': \"x = 'print(55)'\\neval(x)\", '_i75': 'x = \\'name = \"John\"\\\\nprint(name)\\'\\nexec(x)', 'name': 'John', '_i76': 'ages = [5, 12, 17, 18, 24, 32]\\n\\ndef myFunc(x):\\n  if x < 18:\\n    return False\\n  else:\\n    return True\\n\\nadults = filter(myFunc, ages)\\n\\nfor x in adults:\\n  print(x)', 'ages': [5, 12, 17, 18, 24, 32], 'myFunc': <function myFunc at 0x7b687a236ef0>, 'adults': <filter object at 0x7b687a213b80>, '_i77': 'x = float(3)', '_i78': \"x = format(0.5, '%')\", '_i79': \"mylist = ['apple', 'banana', 'cherry']\\nx = frozenset(mylist)\", '_i80': 'class Person:\\n  name = \"John\"\\n  age = 36\\n  country = \"Norway\"\\n\\nx = getattr(Person, \\'age\\')', '_i81': 'x = globals()\\nprint(x)'}\n"
          ]
        }
      ],
      "source": [
        "x = globals()\n",
        "print(x)\n"
      ]
    },
    {
      "cell_type": "code",
      "execution_count": null,
      "metadata": {
        "id": "PKS5ZB6e30aZ"
      },
      "outputs": [],
      "source": [
        "class Person:\n",
        "  name = \"John\"\n",
        "  age = 36\n",
        "  country = \"Norway\"\n",
        "\n",
        "x = hasattr(Person, 'age')\n"
      ]
    },
    {
      "cell_type": "code",
      "execution_count": null,
      "metadata": {
        "id": "HBISAZLP36S0"
      },
      "outputs": [],
      "source": [
        "x = hex(255)"
      ]
    },
    {
      "cell_type": "code",
      "execution_count": null,
      "metadata": {
        "id": "qEn8k-8l4CUN"
      },
      "outputs": [],
      "source": [
        "x = ('apple', 'banana', 'cherry')\n",
        "y = id(x)"
      ]
    },
    {
      "cell_type": "code",
      "execution_count": null,
      "metadata": {
        "colab": {
          "background_save": true,
          "base_uri": "https://localhost:8080/"
        },
        "id": "HdPdHUYB4NTs",
        "outputId": "a8d8129e-546f-48b8-804e-e2c330c92d80"
      },
      "outputs": [
        {
          "name": "stdout",
          "output_type": "stream",
          "text": [
            "Enter your name:\n"
          ]
        }
      ],
      "source": [
        "print('Enter your name:')\n",
        "x = input()\n",
        "print('Hello, ' + x)\n"
      ]
    },
    {
      "cell_type": "code",
      "execution_count": null,
      "metadata": {
        "id": "OQ7fRDbJ4O5x"
      },
      "outputs": [],
      "source": [
        "x = int(3.5)"
      ]
    },
    {
      "cell_type": "code",
      "execution_count": null,
      "metadata": {
        "id": "-WDaUl1D4g5a"
      },
      "outputs": [],
      "source": [
        "x = isinstance(5, int)"
      ]
    },
    {
      "cell_type": "code",
      "execution_count": null,
      "metadata": {
        "id": "mNrr2eA1468i"
      },
      "outputs": [],
      "source": [
        "class myAge:\n",
        "  age = 36\n",
        "\n",
        "class myObj(myAge):\n",
        "  name = \"John\"\n",
        "  age = myAge\n",
        "\n",
        "x = issubclass(myObj, myAge)"
      ]
    }
  ],
  "metadata": {
    "colab": {
      "provenance": [],
      "authorship_tag": "ABX9TyP/EifPbsUoEKRB+NLTyVrL",
      "include_colab_link": true
    },
    "kernelspec": {
      "display_name": "Python 3",
      "name": "python3"
    },
    "language_info": {
      "name": "python"
    }
  },
  "nbformat": 4,
  "nbformat_minor": 0
}